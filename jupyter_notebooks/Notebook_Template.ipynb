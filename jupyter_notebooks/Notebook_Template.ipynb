{
  "cells": [
    {
      "cell_type": "markdown",
      "metadata": {
        "id": "0aStgWSO0E0E"
      },
      "source": [
        "# **(ADD THE NOTEBOOK NAME HERE)**"
      ]
    },
    {
      "cell_type": "markdown",
      "metadata": {
        "id": "1eLEkw5O0ECa"
      },
      "source": [
        "## Objectives\n",
        "\n",
        "* Write your notebook objective here, for example, \"Fetch data from Kaggle and save as raw data\", or \"engineer features for modelling\"\n",
        "\n",
        "## Inputs\n",
        "\n",
        "* Write down which data or information you need to run the notebook \n",
        "\n",
        "## Outputs\n",
        "\n",
        "* Write here which files, code or artefacts you generate by the end of the notebook \n",
        "\n",
        "## Additional Comments\n",
        "\n",
        "* If you have any additional comments that don't fit in the previous bullets, please state them here. \n",
        "\n"
      ]
    },
    {
      "cell_type": "markdown",
      "metadata": {
        "id": "9uWZXH9LwoQg"
      },
      "source": [
        "---"
      ]
    },
    {
      "cell_type": "markdown",
      "metadata": {
        "id": "cqP-UeN-z3i2"
      },
      "source": [
        "# Change working directory"
      ]
    },
    {
      "cell_type": "markdown",
      "metadata": {},
      "source": [
        "* We are assuming you will store the notebooks in a subfolder, therefore when running the notebook in the editor, you will need to change the working directory"
      ]
    },
    {
      "cell_type": "markdown",
      "metadata": {
        "id": "aOGIGS-uz3i2"
      },
      "source": [
        "We need to change the working directory from its current folder to its parent folder\n",
        "* We access the current directory with os.getcwd()"
      ]
    },
    {
      "cell_type": "code",
      "execution_count": 16,
      "metadata": {
        "id": "wZfF_j-Bz3i4",
        "outputId": "66943449-1436-4c3d-85c7-b85f9f78349b"
      },
      "outputs": [
        {
          "data": {
            "text/plain": [
              "'c:\\\\Users\\\\seebi\\\\Downloads'"
            ]
          },
          "execution_count": 16,
          "metadata": {},
          "output_type": "execute_result"
        }
      ],
      "source": [
        "import os\n",
        "current_dir = os.getcwd()\n",
        "current_dir"
      ]
    },
    {
      "cell_type": "markdown",
      "metadata": {
        "id": "9MWW8E7lz3i7"
      },
      "source": [
        "We want to make the parent of the current directory the new current directory\n",
        "* os.path.dirname() gets the parent directory\n",
        "* os.chir() defines the new current directory"
      ]
    },
    {
      "cell_type": "code",
      "execution_count": 17,
      "metadata": {
        "id": "TwHsQRWjz3i9",
        "outputId": "86849db3-cd2f-4cc5-ebb8-2d0caafa1a2c"
      },
      "outputs": [
        {
          "name": "stdout",
          "output_type": "stream",
          "text": [
            "You set a new current directory\n"
          ]
        }
      ],
      "source": [
        "os.chdir(os.path.dirname(current_dir))\n",
        "print(\"You set a new current directory\")"
      ]
    },
    {
      "cell_type": "markdown",
      "metadata": {
        "id": "M_xPk_Ijz3i-"
      },
      "source": [
        "Confirm the new current directory"
      ]
    },
    {
      "cell_type": "code",
      "execution_count": 18,
      "metadata": {
        "id": "vz3S-_kjz3jA",
        "outputId": "00b79ae4-75d0-4a96-d193-ac9ef9847ea2"
      },
      "outputs": [
        {
          "data": {
            "text/plain": [
              "'c:\\\\Users\\\\seebi'"
            ]
          },
          "execution_count": 18,
          "metadata": {},
          "output_type": "execute_result"
        }
      ],
      "source": [
        "current_dir = os.getcwd()\n",
        "current_dir"
      ]
    },
    {
      "cell_type": "markdown",
      "metadata": {
        "id": "-mavJ8DibrcQ"
      },
      "source": [
        "# Section 1"
      ]
    },
    {
      "cell_type": "markdown",
      "metadata": {},
      "source": [
        "Section 1 content"
      ]
    },
    {
      "cell_type": "code",
      "execution_count": 19,
      "metadata": {},
      "outputs": [
        {
          "data": {
            "text/html": [
              "<div>\n",
              "<style scoped>\n",
              "    .dataframe tbody tr th:only-of-type {\n",
              "        vertical-align: middle;\n",
              "    }\n",
              "\n",
              "    .dataframe tbody tr th {\n",
              "        vertical-align: top;\n",
              "    }\n",
              "\n",
              "    .dataframe thead th {\n",
              "        text-align: right;\n",
              "    }\n",
              "</style>\n",
              "<table border=\"1\" class=\"dataframe\">\n",
              "  <thead>\n",
              "    <tr style=\"text-align: right;\">\n",
              "      <th></th>\n",
              "      <th>name</th>\n",
              "      <th>nickname</th>\n",
              "      <th>wins</th>\n",
              "      <th>losses</th>\n",
              "      <th>draws</th>\n",
              "      <th>height_cm</th>\n",
              "      <th>weight_in_kg</th>\n",
              "      <th>reach_in_cm</th>\n",
              "      <th>stance</th>\n",
              "      <th>date_of_birth</th>\n",
              "      <th>significant_strikes_landed_per_minute</th>\n",
              "      <th>significant_striking_accuracy</th>\n",
              "      <th>significant_strikes_absorbed_per_minute</th>\n",
              "      <th>significant_strike_defence</th>\n",
              "      <th>average_takedowns_landed_per_15_minutes</th>\n",
              "      <th>takedown_accuracy</th>\n",
              "      <th>takedown_defense</th>\n",
              "      <th>average_submissions_attempted_per_15_minutes</th>\n",
              "    </tr>\n",
              "  </thead>\n",
              "  <tbody>\n",
              "    <tr>\n",
              "      <th>0</th>\n",
              "      <td>Robert Drysdale</td>\n",
              "      <td>NaN</td>\n",
              "      <td>7</td>\n",
              "      <td>0</td>\n",
              "      <td>0</td>\n",
              "      <td>190.50</td>\n",
              "      <td>92.99</td>\n",
              "      <td>NaN</td>\n",
              "      <td>Orthodox</td>\n",
              "      <td>1981-10-05</td>\n",
              "      <td>0.00</td>\n",
              "      <td>0.0</td>\n",
              "      <td>0.00</td>\n",
              "      <td>0.0</td>\n",
              "      <td>7.32</td>\n",
              "      <td>100.0</td>\n",
              "      <td>0.0</td>\n",
              "      <td>21.9</td>\n",
              "    </tr>\n",
              "    <tr>\n",
              "      <th>1</th>\n",
              "      <td>Daniel McWilliams</td>\n",
              "      <td>The Animal</td>\n",
              "      <td>15</td>\n",
              "      <td>37</td>\n",
              "      <td>0</td>\n",
              "      <td>185.42</td>\n",
              "      <td>83.91</td>\n",
              "      <td>NaN</td>\n",
              "      <td>NaN</td>\n",
              "      <td>NaN</td>\n",
              "      <td>3.36</td>\n",
              "      <td>77.0</td>\n",
              "      <td>0.00</td>\n",
              "      <td>0.0</td>\n",
              "      <td>0.00</td>\n",
              "      <td>0.0</td>\n",
              "      <td>100.0</td>\n",
              "      <td>21.6</td>\n",
              "    </tr>\n",
              "    <tr>\n",
              "      <th>2</th>\n",
              "      <td>Dan Molina</td>\n",
              "      <td>NaN</td>\n",
              "      <td>13</td>\n",
              "      <td>9</td>\n",
              "      <td>0</td>\n",
              "      <td>177.80</td>\n",
              "      <td>97.98</td>\n",
              "      <td>NaN</td>\n",
              "      <td>NaN</td>\n",
              "      <td>NaN</td>\n",
              "      <td>0.00</td>\n",
              "      <td>0.0</td>\n",
              "      <td>5.58</td>\n",
              "      <td>60.0</td>\n",
              "      <td>0.00</td>\n",
              "      <td>0.0</td>\n",
              "      <td>0.0</td>\n",
              "      <td>20.9</td>\n",
              "    </tr>\n",
              "    <tr>\n",
              "      <th>3</th>\n",
              "      <td>Paul Ruiz</td>\n",
              "      <td>NaN</td>\n",
              "      <td>7</td>\n",
              "      <td>4</td>\n",
              "      <td>0</td>\n",
              "      <td>167.64</td>\n",
              "      <td>61.23</td>\n",
              "      <td>NaN</td>\n",
              "      <td>NaN</td>\n",
              "      <td>NaN</td>\n",
              "      <td>1.40</td>\n",
              "      <td>33.0</td>\n",
              "      <td>1.40</td>\n",
              "      <td>75.0</td>\n",
              "      <td>0.00</td>\n",
              "      <td>0.0</td>\n",
              "      <td>100.0</td>\n",
              "      <td>20.9</td>\n",
              "    </tr>\n",
              "    <tr>\n",
              "      <th>4</th>\n",
              "      <td>Collin Huckbody</td>\n",
              "      <td>All In</td>\n",
              "      <td>8</td>\n",
              "      <td>2</td>\n",
              "      <td>0</td>\n",
              "      <td>190.50</td>\n",
              "      <td>83.91</td>\n",
              "      <td>193.04</td>\n",
              "      <td>Orthodox</td>\n",
              "      <td>1994-09-29</td>\n",
              "      <td>2.05</td>\n",
              "      <td>60.0</td>\n",
              "      <td>2.73</td>\n",
              "      <td>42.0</td>\n",
              "      <td>10.23</td>\n",
              "      <td>100.0</td>\n",
              "      <td>0.0</td>\n",
              "      <td>20.4</td>\n",
              "    </tr>\n",
              "  </tbody>\n",
              "</table>\n",
              "</div>"
            ],
            "text/plain": [
              "                name    nickname  wins  losses  draws  height_cm  \\\n",
              "0    Robert Drysdale         NaN     7       0      0     190.50   \n",
              "1  Daniel McWilliams  The Animal    15      37      0     185.42   \n",
              "2         Dan Molina         NaN    13       9      0     177.80   \n",
              "3          Paul Ruiz         NaN     7       4      0     167.64   \n",
              "4    Collin Huckbody      All In     8       2      0     190.50   \n",
              "\n",
              "   weight_in_kg  reach_in_cm    stance date_of_birth  \\\n",
              "0         92.99          NaN  Orthodox    1981-10-05   \n",
              "1         83.91          NaN       NaN           NaN   \n",
              "2         97.98          NaN       NaN           NaN   \n",
              "3         61.23          NaN       NaN           NaN   \n",
              "4         83.91       193.04  Orthodox    1994-09-29   \n",
              "\n",
              "   significant_strikes_landed_per_minute  significant_striking_accuracy  \\\n",
              "0                                   0.00                            0.0   \n",
              "1                                   3.36                           77.0   \n",
              "2                                   0.00                            0.0   \n",
              "3                                   1.40                           33.0   \n",
              "4                                   2.05                           60.0   \n",
              "\n",
              "   significant_strikes_absorbed_per_minute  significant_strike_defence  \\\n",
              "0                                     0.00                         0.0   \n",
              "1                                     0.00                         0.0   \n",
              "2                                     5.58                        60.0   \n",
              "3                                     1.40                        75.0   \n",
              "4                                     2.73                        42.0   \n",
              "\n",
              "   average_takedowns_landed_per_15_minutes  takedown_accuracy  \\\n",
              "0                                     7.32              100.0   \n",
              "1                                     0.00                0.0   \n",
              "2                                     0.00                0.0   \n",
              "3                                     0.00                0.0   \n",
              "4                                    10.23              100.0   \n",
              "\n",
              "   takedown_defense  average_submissions_attempted_per_15_minutes  \n",
              "0               0.0                                          21.9  \n",
              "1             100.0                                          21.6  \n",
              "2               0.0                                          20.9  \n",
              "3             100.0                                          20.9  \n",
              "4               0.0                                          20.4  "
            ]
          },
          "execution_count": 19,
          "metadata": {},
          "output_type": "execute_result"
        }
      ],
      "source": [
        "\n",
        "import pandas as pd\n",
        "import numpy as np\n",
        "import matplotlib.pyplot as plt\n",
        "import seaborn as sns\n",
        "import plotly.express as ex\n",
        "\n",
        "file_path = r\"C:\\Users\\Seebi\\Downloads\\VSCODE_Projects\\Fighter-Statistical-Data/ufc-fighters-statistics.csv\"\n",
        "df = pd.read_csv(file_path)\n",
        "\n",
        "df.head()\n",
        "\n"
      ]
    },
    {
      "cell_type": "code",
      "execution_count": 20,
      "metadata": {},
      "outputs": [
        {
          "name": "stdout",
          "output_type": "stream",
          "text": [
            "Missing Values per Column:\n",
            " name                                               0\n",
            "nickname                                        1854\n",
            "wins                                               0\n",
            "losses                                             0\n",
            "draws                                              0\n",
            "height_cm                                        298\n",
            "weight_in_kg                                      87\n",
            "reach_in_cm                                     1927\n",
            "stance                                           823\n",
            "date_of_birth                                   1135\n",
            "significant_strikes_landed_per_minute              0\n",
            "significant_striking_accuracy                      0\n",
            "significant_strikes_absorbed_per_minute            0\n",
            "significant_strike_defence                         0\n",
            "average_takedowns_landed_per_15_minutes            0\n",
            "takedown_accuracy                                  0\n",
            "takedown_defense                                   0\n",
            "average_submissions_attempted_per_15_minutes       0\n",
            "dtype: int64\n"
          ]
        }
      ],
      "source": [
        "missing_values = df.isnull().sum()\n",
        "print(\"Missing Values per Column:\\n\", missing_values)"
      ]
    },
    {
      "cell_type": "markdown",
      "metadata": {
        "id": "ZY3l0-AxO93d"
      },
      "source": [
        "---"
      ]
    },
    {
      "cell_type": "markdown",
      "metadata": {
        "id": "uFQo3ycuO-v6"
      },
      "source": [
        "# Section 2"
      ]
    },
    {
      "cell_type": "markdown",
      "metadata": {},
      "source": [
        "Section 2 content"
      ]
    },
    {
      "cell_type": "code",
      "execution_count": 21,
      "metadata": {},
      "outputs": [
        {
          "name": "stdout",
          "output_type": "stream",
          "text": [
            "c:\\Users\\seebi\\Downloads\\VSCODE_Projects\\Fighter-Statistical-Data\\.venv\\Scripts\\python.exe\n"
          ]
        }
      ],
      "source": [
        "import sys\n",
        "print(sys.executable)\n"
      ]
    },
    {
      "cell_type": "markdown",
      "metadata": {},
      "source": [
        "---"
      ]
    },
    {
      "cell_type": "markdown",
      "metadata": {},
      "source": [
        "NOTE"
      ]
    },
    {
      "cell_type": "markdown",
      "metadata": {},
      "source": [
        "* You may add as many sections as you want, as long as it supports your project workflow.\n",
        "* All notebook's cells should be run top-down (you can't create a dynamic wherein a given point you need to go back to a previous cell to execute some task, like go back to a previous cell and refresh a variable content)"
      ]
    },
    {
      "cell_type": "markdown",
      "metadata": {},
      "source": [
        "---"
      ]
    },
    {
      "cell_type": "markdown",
      "metadata": {
        "id": "ltNetd085qHf"
      },
      "source": [
        "# Push files to Repo"
      ]
    },
    {
      "cell_type": "markdown",
      "metadata": {},
      "source": [
        "* In cases where you don't need to push files to Repo, you may replace this section with \"Conclusions and Next Steps\" and state your conclusions and next steps."
      ]
    },
    {
      "cell_type": "code",
      "execution_count": 22,
      "metadata": {
        "id": "aKlnIozA4eQO",
        "outputId": "fd09bc1f-adb1-4511-f6ce-492a6af570c0"
      },
      "outputs": [
        {
          "ename": "IndentationError",
          "evalue": "expected an indented block after 'try' statement on line 2 (553063055.py, line 5)",
          "output_type": "error",
          "traceback": [
            "  \u001b[36mCell\u001b[39m\u001b[36m \u001b[39m\u001b[32mIn[22]\u001b[39m\u001b[32m, line 5\u001b[39m\n\u001b[31m    \u001b[39m\u001b[31mexcept Exception as e:\u001b[39m\n    ^\n\u001b[31mIndentationError\u001b[39m\u001b[31m:\u001b[39m expected an indented block after 'try' statement on line 2\n"
          ]
        }
      ],
      "source": [
        "import os\n",
        "try:\n",
        "  # create your folder here\n",
        "  # os.makedirs(name='')\n",
        "except Exception as e:\n",
        "  print(e)\n"
      ]
    }
  ],
  "metadata": {
    "accelerator": "GPU",
    "colab": {
      "name": "Data Practitioner Jupyter Notebook.ipynb",
      "provenance": [],
      "toc_visible": true
    },
    "kernelspec": {
      "display_name": ".venv",
      "language": "python",
      "name": "python3"
    },
    "language_info": {
      "codemirror_mode": {
        "name": "ipython",
        "version": 3
      },
      "file_extension": ".py",
      "mimetype": "text/x-python",
      "name": "python",
      "nbconvert_exporter": "python",
      "pygments_lexer": "ipython3",
      "version": "3.12.8"
    },
    "orig_nbformat": 2
  },
  "nbformat": 4,
  "nbformat_minor": 2
}
