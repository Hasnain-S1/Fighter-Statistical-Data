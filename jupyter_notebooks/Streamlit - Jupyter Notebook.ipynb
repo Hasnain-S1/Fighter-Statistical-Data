{
  "cells": [
    {
      "cell_type": "markdown",
      "metadata": {
        "id": "0aStgWSO0E0E"
      },
      "source": [
        "# MMA Fighter Statistical Analysis  \n",
        "This project aims to explore the relationship between fighter attributes and success metrics within MMA. By exploring various metrics such as striking accuracy, takedown defense, and physical attributes, we aim to determine what separates elite fighters from the rest.  \n"
      ]
    },
    {
      "cell_type": "markdown",
      "metadata": {
        "id": "1eLEkw5O0ECa"
      },
      "source": [
        "## Objectives\n",
        " \n",
        "- Identify performance indicators that correlate with higher win percentages.  \n",
        "- Analyze striking vs. grappling efficiency.  \n",
        "- Determine if physical attributes influence fight outcomes.  \n",
        "\n",
        "\n",
        "## Key Hypotheses\n",
        "The following hypotheses will be tested using statistical analysis and visualizations:\n",
        "\n",
        "* Fighters with a higher reach-to-height ratio tend to have a higher win percentage.\n",
        "\n",
        "\n",
        "Does having a longer reach relative to height provide a striking advantage?\n",
        "\n",
        "\n",
        "\n",
        "-  Fighters with a higher strike accuracy have a higher win percentage.\n",
        "\n",
        "Does being more precise with strikes lead to increased success in fights?\n",
        "\n",
        "\n",
        "\n",
        "- Do heavyweights have a lower win percentage than non-heavyweights?\n",
        "\n",
        "Are heavyweight fighters less successful compared to lighter-weight fighters?\n",
        "\n",
        "\n",
        "\n",
        "- Fighters with better takedown defense have a higher win percentage.\n",
        "\n",
        "\n",
        "Does strong takedown defense contribute to more victories by keeping the fight standing?\n",
        "\n",
        "\n",
        "- Fighters who absorb fewer strikes per minute have a higher win rate.\n",
        "\n",
        "Does avoiding damage correlate with a higher chance of winning fights?\n",
        "\n"
      ]
    },
    {
      "cell_type": "markdown",
      "metadata": {
        "id": "9uWZXH9LwoQg"
      },
      "source": [
        "---"
      ]
    },
    {
      "cell_type": "markdown",
      "metadata": {
        "id": "cqP-UeN-z3i2"
      },
      "source": [
        "# Change working directory"
      ]
    },
    {
      "cell_type": "markdown",
      "metadata": {},
      "source": [
        "* We are assuming you will store the notebooks in a subfolder, therefore when running the notebook in the editor, you will need to change the working directory"
      ]
    },
    {
      "cell_type": "markdown",
      "metadata": {
        "id": "aOGIGS-uz3i2"
      },
      "source": [
        "We need to change the working directory from its current folder to its parent folder\n",
        "* We access the current directory with os.getcwd()"
      ]
    },
    {
      "cell_type": "code",
      "execution_count": 10,
      "metadata": {
        "id": "wZfF_j-Bz3i4",
        "outputId": "66943449-1436-4c3d-85c7-b85f9f78349b"
      },
      "outputs": [
        {
          "data": {
            "text/plain": [
              "'c:\\\\Users\\\\seebi\\\\Downloads\\\\VSCODE_Projects'"
            ]
          },
          "execution_count": 10,
          "metadata": {},
          "output_type": "execute_result"
        }
      ],
      "source": [
        "import os\n",
        "current_dir = os.getcwd()\n",
        "current_dir"
      ]
    },
    {
      "cell_type": "markdown",
      "metadata": {
        "id": "9MWW8E7lz3i7"
      },
      "source": [
        "We want to make the parent of the current directory the new current directory\n",
        "* os.path.dirname() gets the parent directory\n",
        "* os.chir() defines the new current directory"
      ]
    },
    {
      "cell_type": "code",
      "execution_count": 11,
      "metadata": {
        "id": "TwHsQRWjz3i9",
        "outputId": "86849db3-cd2f-4cc5-ebb8-2d0caafa1a2c"
      },
      "outputs": [
        {
          "name": "stdout",
          "output_type": "stream",
          "text": [
            "You set a new current directory\n"
          ]
        }
      ],
      "source": [
        "os.chdir(os.path.dirname(current_dir))\n",
        "print(\"You set a new current directory\")"
      ]
    },
    {
      "cell_type": "markdown",
      "metadata": {
        "id": "M_xPk_Ijz3i-"
      },
      "source": [
        "Confirm the new current directory"
      ]
    },
    {
      "cell_type": "code",
      "execution_count": 12,
      "metadata": {
        "id": "vz3S-_kjz3jA",
        "outputId": "00b79ae4-75d0-4a96-d193-ac9ef9847ea2"
      },
      "outputs": [
        {
          "data": {
            "text/plain": [
              "'c:\\\\Users\\\\seebi\\\\Downloads'"
            ]
          },
          "execution_count": 12,
          "metadata": {},
          "output_type": "execute_result"
        }
      ],
      "source": [
        "current_dir = os.getcwd()\n",
        "current_dir"
      ]
    },
    {
      "cell_type": "markdown",
      "metadata": {},
      "source": [
        "---"
      ]
    },
    {
      "cell_type": "code",
      "execution_count": 13,
      "metadata": {},
      "outputs": [
        {
          "data": {
            "text/html": [
              "<div>\n",
              "<style scoped>\n",
              "    .dataframe tbody tr th:only-of-type {\n",
              "        vertical-align: middle;\n",
              "    }\n",
              "\n",
              "    .dataframe tbody tr th {\n",
              "        vertical-align: top;\n",
              "    }\n",
              "\n",
              "    .dataframe thead th {\n",
              "        text-align: right;\n",
              "    }\n",
              "</style>\n",
              "<table border=\"1\" class=\"dataframe\">\n",
              "  <thead>\n",
              "    <tr style=\"text-align: right;\">\n",
              "      <th></th>\n",
              "      <th>name</th>\n",
              "      <th>wins</th>\n",
              "      <th>losses</th>\n",
              "      <th>draws</th>\n",
              "      <th>height_cm</th>\n",
              "      <th>weight_in_kg</th>\n",
              "      <th>reach_in_cm</th>\n",
              "      <th>stance</th>\n",
              "      <th>significant_strikes_landed_per_minute</th>\n",
              "      <th>significant_striking_accuracy</th>\n",
              "      <th>significant_strikes_absorbed_per_minute</th>\n",
              "      <th>significant_strike_defence</th>\n",
              "      <th>average_takedowns_landed_per_15_minutes</th>\n",
              "      <th>takedown_accuracy</th>\n",
              "      <th>takedown_defense</th>\n",
              "      <th>average_submissions_attempted_per_15_minutes</th>\n",
              "      <th>reach_to_height</th>\n",
              "    </tr>\n",
              "  </thead>\n",
              "  <tbody>\n",
              "    <tr>\n",
              "      <th>0</th>\n",
              "      <td>Robert Drysdale</td>\n",
              "      <td>7</td>\n",
              "      <td>0</td>\n",
              "      <td>0</td>\n",
              "      <td>190.50</td>\n",
              "      <td>92.99</td>\n",
              "      <td>195.418730</td>\n",
              "      <td>Orthodox</td>\n",
              "      <td>0.00</td>\n",
              "      <td>0.0</td>\n",
              "      <td>0.00</td>\n",
              "      <td>0.0</td>\n",
              "      <td>7.32</td>\n",
              "      <td>100.0</td>\n",
              "      <td>0.0</td>\n",
              "      <td>21.9</td>\n",
              "      <td>1.025820</td>\n",
              "    </tr>\n",
              "    <tr>\n",
              "      <th>1</th>\n",
              "      <td>Daniel McWilliams</td>\n",
              "      <td>15</td>\n",
              "      <td>37</td>\n",
              "      <td>0</td>\n",
              "      <td>185.42</td>\n",
              "      <td>83.91</td>\n",
              "      <td>190.059538</td>\n",
              "      <td>Orthodox</td>\n",
              "      <td>3.36</td>\n",
              "      <td>77.0</td>\n",
              "      <td>0.00</td>\n",
              "      <td>0.0</td>\n",
              "      <td>0.00</td>\n",
              "      <td>0.0</td>\n",
              "      <td>100.0</td>\n",
              "      <td>21.6</td>\n",
              "      <td>1.025022</td>\n",
              "    </tr>\n",
              "    <tr>\n",
              "      <th>2</th>\n",
              "      <td>Dan Molina</td>\n",
              "      <td>13</td>\n",
              "      <td>9</td>\n",
              "      <td>0</td>\n",
              "      <td>177.80</td>\n",
              "      <td>97.98</td>\n",
              "      <td>182.029604</td>\n",
              "      <td>Orthodox</td>\n",
              "      <td>0.00</td>\n",
              "      <td>0.0</td>\n",
              "      <td>5.58</td>\n",
              "      <td>60.0</td>\n",
              "      <td>0.00</td>\n",
              "      <td>0.0</td>\n",
              "      <td>0.0</td>\n",
              "      <td>20.9</td>\n",
              "      <td>1.023789</td>\n",
              "    </tr>\n",
              "    <tr>\n",
              "      <th>3</th>\n",
              "      <td>Paul Ruiz</td>\n",
              "      <td>7</td>\n",
              "      <td>4</td>\n",
              "      <td>0</td>\n",
              "      <td>167.64</td>\n",
              "      <td>61.23</td>\n",
              "      <td>171.261548</td>\n",
              "      <td>Orthodox</td>\n",
              "      <td>1.40</td>\n",
              "      <td>33.0</td>\n",
              "      <td>1.40</td>\n",
              "      <td>75.0</td>\n",
              "      <td>0.00</td>\n",
              "      <td>0.0</td>\n",
              "      <td>100.0</td>\n",
              "      <td>20.9</td>\n",
              "      <td>1.021603</td>\n",
              "    </tr>\n",
              "    <tr>\n",
              "      <th>4</th>\n",
              "      <td>Collin Huckbody</td>\n",
              "      <td>8</td>\n",
              "      <td>2</td>\n",
              "      <td>0</td>\n",
              "      <td>190.50</td>\n",
              "      <td>83.91</td>\n",
              "      <td>193.040000</td>\n",
              "      <td>Orthodox</td>\n",
              "      <td>2.05</td>\n",
              "      <td>60.0</td>\n",
              "      <td>2.73</td>\n",
              "      <td>42.0</td>\n",
              "      <td>10.23</td>\n",
              "      <td>100.0</td>\n",
              "      <td>0.0</td>\n",
              "      <td>20.4</td>\n",
              "      <td>1.013333</td>\n",
              "    </tr>\n",
              "  </tbody>\n",
              "</table>\n",
              "</div>"
            ],
            "text/plain": [
              "                name  wins  losses  draws  height_cm  weight_in_kg  \\\n",
              "0    Robert Drysdale     7       0      0     190.50         92.99   \n",
              "1  Daniel McWilliams    15      37      0     185.42         83.91   \n",
              "2         Dan Molina    13       9      0     177.80         97.98   \n",
              "3          Paul Ruiz     7       4      0     167.64         61.23   \n",
              "4    Collin Huckbody     8       2      0     190.50         83.91   \n",
              "\n",
              "   reach_in_cm    stance  significant_strikes_landed_per_minute  \\\n",
              "0   195.418730  Orthodox                                   0.00   \n",
              "1   190.059538  Orthodox                                   3.36   \n",
              "2   182.029604  Orthodox                                   0.00   \n",
              "3   171.261548  Orthodox                                   1.40   \n",
              "4   193.040000  Orthodox                                   2.05   \n",
              "\n",
              "   significant_striking_accuracy  significant_strikes_absorbed_per_minute  \\\n",
              "0                            0.0                                     0.00   \n",
              "1                           77.0                                     0.00   \n",
              "2                            0.0                                     5.58   \n",
              "3                           33.0                                     1.40   \n",
              "4                           60.0                                     2.73   \n",
              "\n",
              "   significant_strike_defence  average_takedowns_landed_per_15_minutes  \\\n",
              "0                         0.0                                     7.32   \n",
              "1                         0.0                                     0.00   \n",
              "2                        60.0                                     0.00   \n",
              "3                        75.0                                     0.00   \n",
              "4                        42.0                                    10.23   \n",
              "\n",
              "   takedown_accuracy  takedown_defense  \\\n",
              "0              100.0               0.0   \n",
              "1                0.0             100.0   \n",
              "2                0.0               0.0   \n",
              "3                0.0             100.0   \n",
              "4              100.0               0.0   \n",
              "\n",
              "   average_submissions_attempted_per_15_minutes  reach_to_height  \n",
              "0                                          21.9         1.025820  \n",
              "1                                          21.6         1.025022  \n",
              "2                                          20.9         1.023789  \n",
              "3                                          20.9         1.021603  \n",
              "4                                          20.4         1.013333  "
            ]
          },
          "execution_count": 13,
          "metadata": {},
          "output_type": "execute_result"
        }
      ],
      "source": [
        "\n",
        "import pandas as pd\n",
        "import numpy as np\n",
        "import matplotlib.pyplot as plt\n",
        "import seaborn as sns\n",
        "import plotly.express as ex\n",
        "\n",
        "file_path = r\"C:\\Users\\Seebi\\Downloads\\VSCODE_Projects\\Fighter-Statistical-Data/ufc-fighters-statistics-cleaned.csv\"\n",
        "df = pd.read_csv(file_path)\n",
        "\n",
        "df.head()\n",
        "\n",
        "# loading in the dataset, and looking through the first 5 rows\n"
      ]
    },
    {
      "cell_type": "markdown",
      "metadata": {},
      "source": [
        "---"
      ]
    },
    {
      "cell_type": "code",
      "execution_count": 14,
      "metadata": {},
      "outputs": [
        {
          "ename": "ModuleNotFoundError",
          "evalue": "No module named 'utils'",
          "output_type": "error",
          "traceback": [
            "\u001b[31m---------------------------------------------------------------------------\u001b[39m",
            "\u001b[31mModuleNotFoundError\u001b[39m                       Traceback (most recent call last)",
            "\u001b[36mCell\u001b[39m\u001b[36m \u001b[39m\u001b[32mIn[14]\u001b[39m\u001b[32m, line 3\u001b[39m\n\u001b[32m      1\u001b[39m \u001b[38;5;28;01mimport\u001b[39;00m\u001b[38;5;250m \u001b[39m\u001b[34;01mstreamlit\u001b[39;00m\u001b[38;5;250m \u001b[39m\u001b[38;5;28;01mas\u001b[39;00m\u001b[38;5;250m \u001b[39m\u001b[34;01mst\u001b[39;00m\n\u001b[32m----> \u001b[39m\u001b[32m3\u001b[39m \u001b[38;5;28;01mfrom\u001b[39;00m\u001b[38;5;250m \u001b[39m\u001b[34;01mutils\u001b[39;00m\u001b[34;01m.\u001b[39;00m\u001b[34;01mdata_processor\u001b[39;00m\u001b[38;5;250m \u001b[39m\u001b[38;5;28;01mimport\u001b[39;00m (\n\u001b[32m      4\u001b[39m     load_and_process_data,\n\u001b[32m      5\u001b[39m     get_fighters_by_weight_class,\n\u001b[32m      6\u001b[39m     get_fighter_stats,\n\u001b[32m      7\u001b[39m     get_comparison_metrics\n\u001b[32m      8\u001b[39m )\n\u001b[32m      9\u001b[39m \u001b[38;5;28;01mfrom\u001b[39;00m\u001b[38;5;250m \u001b[39m\u001b[34;01mutils\u001b[39;00m\u001b[34;01m.\u001b[39;00m\u001b[34;01mvisualization\u001b[39;00m\u001b[38;5;250m \u001b[39m\u001b[38;5;28;01mimport\u001b[39;00m create_spider_chart, create_stats_bar_chart\n\u001b[32m     11\u001b[39m \u001b[38;5;66;03m# Page config\u001b[39;00m\n",
            "\u001b[31mModuleNotFoundError\u001b[39m: No module named 'utils'"
          ]
        }
      ],
      "source": [
        "import streamlit as st\n",
        "\n",
        "from utils.data_processor import (\n",
        "    load_and_process_data,\n",
        "    get_fighters_by_weight_class,\n",
        "    get_fighter_stats,\n",
        "    get_comparison_metrics\n",
        ")\n",
        "from utils.visualization import create_spider_chart, create_stats_bar_chart\n",
        "\n",
        "# Page config\n",
        "st.set_page_config(\n",
        "    page_title=\"UFC Fighter Statistics Dashboard\",\n",
        "    page_icon=\"🥊\",\n",
        "    layout=\"wide\"\n",
        ")\n",
        "\n",
        "# Load custom CSS\n",
        "with open('assets/styles.css') as f:\n",
        "    st.markdown(f'<style>{f.read()}</style>', unsafe_allow_html=True)\n",
        "\n",
        "# Load and process data\n",
        "@st.cache_data\n",
        "def load_data():\n",
        "    return load_and_process_data('attached_assets/ufc-fighters-statistics-cleaned.csv')\n",
        "\n",
        "df = load_data()\n",
        "\n",
        "# Header\n",
        "st.title(\"🥊 UFC Fighter Statistics Dashboard\")\n",
        "st.markdown(\"Compare fighters and analyze their statistics across different weight classes\")\n",
        "\n",
        "# Sidebar\n",
        "st.sidebar.title(\"Fighter Selection\")\n",
        "\n",
        "# Gender selection\n",
        "gender = st.sidebar.radio(\"Select Gender\", ['Male', 'Female'])\n",
        "filtered_df = df[df['gender'] == gender]\n",
        "\n",
        "# Weight class selection\n",
        "weight_classes_male = [\n",
        "    'Flyweight', 'Bantamweight', 'Featherweight', 'Lightweight', \n",
        "    'Welterweight', 'Middleweight', 'Light Heavyweight', 'Heavyweight'\n",
        "]\n",
        "weight_classes_female = [\n",
        "    'Strawweight', 'Flyweight', 'Bantamweight', 'Featherweight'\n",
        "]\n",
        "\n",
        "weight_class_options = weight_classes_male if gender == \"Male\" else weight_classes_female\n",
        "\n",
        "weight_class = st.sidebar.selectbox(\"Select Weight Class\", weight_class_options)\n",
        "\n",
        "# Filter dataset based on weight class\n",
        "filtered_df = filtered_df[filtered_df['weight_class'] == weight_class]\n",
        "\n",
        "# Get fighters in selected weight class\n",
        "fighters = get_fighters_by_weight_class(filtered_df, weight_class)\n",
        "\n",
        "# Fighter selection\n",
        "col1, col2 = st.columns(2)\n",
        "\n",
        "with col1:\n",
        "    fighter1 = st.selectbox(\"Select First Fighter\", fighters, key='fighter1')\n",
        "    fighter1_data = get_fighter_stats(filtered_df, fighter1)\n",
        "\n",
        "with col2:\n",
        "    remaining_fighters = [f for f in fighters if f != fighter1]\n",
        "    fighter2 = st.selectbox(\"Select Second Fighter\", remaining_fighters, key='fighter2')\n",
        "    fighter2_data = get_fighter_stats(filtered_df, fighter2)\n",
        "\n",
        "# Display fighter comparison\n",
        "st.markdown(\"### Fighter Comparison\")\n",
        "\n",
        "# Basic stats comparison\n",
        "stats_col1, stats_col2 = st.columns(2)\n",
        "\n",
        "with stats_col1:\n",
        "    st.markdown(f\"#### {fighter1}\")\n",
        "    st.markdown(f\"**Record:** {fighter1_data['wins']}-{fighter1_data['losses']}-{fighter1_data['draws']}\")\n",
        "    st.markdown(f\"**Height:** {round(fighter1_data['height_cm'])} cm\")\n",
        "    st.markdown(f\"**Weight:** {round(fighter1_data['weight_in_kg'])} kg\")\n",
        "    st.markdown(f\"**Reach:** {round(fighter1_data['reach_in_cm'])} cm\")\n",
        "    st.markdown(f\"**Stance:** {fighter1_data['stance']}\")\n",
        "\n",
        "with stats_col2:\n",
        "    st.markdown(f\"#### {fighter2}\")\n",
        "    st.markdown(f\"**Record:** {fighter2_data['wins']}-{fighter2_data['losses']}-{fighter2_data['draws']}\")\n",
        "    st.markdown(f\"**Height:** {round(fighter2_data['height_cm'])} cm\")\n",
        "    st.markdown(f\"**Weight:** {round(fighter2_data['weight_in_kg'])} kg\")\n",
        "    st.markdown(f\"**Reach:** {round(fighter2_data['reach_in_cm'])} cm\")\n",
        "    st.markdown(f\"**Stance:** {fighter2_data['stance']}\")\n",
        "\n",
        "# Spider chart comparison\n",
        "st.markdown(\"### Performance Comparison\")\n",
        "\n",
        "fighter1_metrics = get_comparison_metrics(fighter1_data)\n",
        "fighter2_metrics = get_comparison_metrics(fighter2_data)\n",
        "\n",
        "spider_chart = create_spider_chart(\n",
        "    fighter1_metrics,\n",
        "    fighter2_metrics,\n",
        "    fighter1,\n",
        "    fighter2\n",
        ")\n",
        "st.plotly_chart(spider_chart, use_container_width=True, key=\"spider\")\n",
        "\n",
        "# Detailed statistics\n",
        "st.markdown(\"### Detailed Statistics\")\n",
        "\n",
        "detailed_col1, detailed_col2 = st.columns(2)\n",
        "\n",
        "with detailed_col1:\n",
        "    st.markdown(f\"#### {fighter1} - Strike Statistics\")\n",
        "    strike_stats = {\n",
        "        'Strikes Landed/Min': fighter1_data['significant_strikes_landed_per_minute'],\n",
        "        'Strike Accuracy': fighter1_data['significant_striking_accuracy'],\n",
        "        'Strikes Absorbed/Min': fighter1_data['significant_strikes_absorbed_per_minute'],\n",
        "        'Strike Defense': fighter1_data['significant_strike_defence']\n",
        "    }\n",
        "    st.plotly_chart(create_stats_bar_chart(strike_stats, \"Strike Statistics\"), use_container_width=True, key=f\"{fighter1}_stats\")\n",
        "\n",
        "with detailed_col2:\n",
        "    st.markdown(f\"#### {fighter2} - Strike Statistics\")\n",
        "    strike_stats = {\n",
        "        'Strikes Landed/Min': fighter2_data['significant_strikes_landed_per_minute'],\n",
        "        'Strike Accuracy': fighter2_data['significant_striking_accuracy'],\n",
        "        'Strikes Absorbed/Min': fighter2_data['significant_strikes_absorbed_per_minute'],\n",
        "        'Strike Defense': fighter2_data['significant_strike_defence']\n",
        "    }\n",
        "    st.plotly_chart(create_stats_bar_chart(strike_stats, \"Strike Statistics\"), use_container_width=True, key=f\"{fighter2}_stats\")\n",
        "\n",
        "# Footer\n",
        "st.markdown(\"---\")\n",
        "st.markdown(\"Data source: UFC Fighter Statistics Dataset\")\n"
      ]
    }
  ],
  "metadata": {
    "accelerator": "GPU",
    "colab": {
      "name": "Data Practitioner Jupyter Notebook.ipynb",
      "provenance": [],
      "toc_visible": true
    },
    "kernelspec": {
      "display_name": ".venv",
      "language": "python",
      "name": "python3"
    },
    "language_info": {
      "codemirror_mode": {
        "name": "ipython",
        "version": 3
      },
      "file_extension": ".py",
      "mimetype": "text/x-python",
      "name": "python",
      "nbconvert_exporter": "python",
      "pygments_lexer": "ipython3",
      "version": "3.12.8"
    },
    "orig_nbformat": 2
  },
  "nbformat": 4,
  "nbformat_minor": 2
}
